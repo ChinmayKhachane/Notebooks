{
 "cells": [
  {
   "cell_type": "raw",
   "metadata": {},
   "source": [
    "Challenge 1: Basic Functions\n",
    "\n",
    "Ask the user for a number. Depending on whether the number is even or odd, print out an appropriate message to the user. Hint: how does an even / odd number react differently when divided by 2?\n",
    "\n",
    "-Your code must utilize a separate function to determine if the the number is even or odd\n",
    "\n",
    "Example:\n",
    "\n",
    "Enter a number\n",
    ">>26\n",
    "Your number is even"
   ]
  },
  {
   "cell_type": "code",
   "execution_count": null,
   "metadata": {
    "collapsed": true
   },
   "outputs": [],
   "source": []
  },
  {
   "cell_type": "raw",
   "metadata": {},
   "source": [
    "Challenge 2: Lists\n",
    "\n",
    "If you want to find out what a list is, check this out \n",
    "https://www.digitalocean.com/community/tutorials/understanding-data-types-in-python-3#lists\n",
    "\n",
    "Given an input list of integers that looks like this:\n",
    "\n",
    "data = [1,2,56,4,5,7,5,33,24,5,435,12,3,76,13]\n",
    "\n",
    "Write a function that takes a list as its inputs and outputs the average of all the elements of the list. "
   ]
  },
  {
   "cell_type": "code",
   "execution_count": null,
   "metadata": {
    "collapsed": true
   },
   "outputs": [],
   "source": []
  },
  {
   "cell_type": "raw",
   "metadata": {},
   "source": [
    "Challenge 3: Lists Cont.\n",
    "\n",
    "Given an input list of integers that looks like this:\n",
    "\n",
    "data=[5,4,6,1,9,0,3,9,2,7,10,8,4,7,1,2,7,6,5,2,8,2,0,1,1,1,2,10,6,2]\n",
    "\n",
    "Write a function that removes all the duplicated elements from this list. Note that the order is preserved."
   ]
  },
  {
   "cell_type": "code",
   "execution_count": null,
   "metadata": {
    "collapsed": true
   },
   "outputs": [],
   "source": []
  },
  {
   "cell_type": "raw",
   "metadata": {},
   "source": [
    "Challenge 4: Dictionaries\n",
    "\n",
    "If you want to find out what a dictionary is, check this out \n",
    "https://www.digitalocean.com/community/tutorials/understanding-data-types-in-python-3#dictionaries\n",
    "\n",
    "Given an input dictionary hat looks like this:\n",
    "\n",
    "dict = {'name': 'Sammy', 'animal': 'shark', 'color': 'blue', 'l^ocation': 'ocean'}\n",
    "\n",
    "Write a Python script that creates a dictionary where the key is X and the corresponding value is 3X^2+89 for X values between 1 and 15 inclusive. "
   ]
  },
  {
   "cell_type": "code",
   "execution_count": null,
   "metadata": {
    "collapsed": true
   },
   "outputs": [],
   "source": []
  }
 ],
 "metadata": {
  "kernelspec": {
   "display_name": "Python 3",
   "language": "python",
   "name": "python3"
  },
  "language_info": {
   "codemirror_mode": {
    "name": "ipython",
    "version": 3
   },
   "file_extension": ".py",
   "mimetype": "text/x-python",
   "name": "python",
   "nbconvert_exporter": "python",
   "pygments_lexer": "ipython3",
   "version": "3.6.2"
  }
 },
 "nbformat": 4,
 "nbformat_minor": 2
}
